{
 "cells": [
  {
   "cell_type": "markdown",
   "id": "e7b8dc36",
   "metadata": {},
   "source": [
    "# Aula 11 - Métodos Numéricos\n",
    "\n",
    "## Qualidade do Ajuste (R²)"
   ]
  },
  {
   "cell_type": "markdown",
   "id": "ba74d30f",
   "metadata": {},
   "source": [
    "#### Uma boa medida da qualidade do ajuste é o coeficiente de determinação (R²)"
   ]
  },
  {
   "cell_type": "markdown",
   "id": "f948d4bb",
   "metadata": {},
   "source": [
    "$R² = 1 - R / (\\sum y²i - (\\sum yi)² / n)$"
   ]
  },
  {
   "cell_type": "markdown",
   "id": "6dab3de5",
   "metadata": {},
   "source": [
    "$R = \\sum_{i=1}^{n} (yi - ui)²$\n",
    "\n",
    "$ui = b0 + b1.xi$"
   ]
  },
  {
   "cell_type": "markdown",
   "id": "7d294dd9",
   "metadata": {},
   "source": [
    "$0 <= R² => 1$\n",
    "\n",
    "Quanto mais próximo de 1 estiver R², melhor é o ajuste."
   ]
  },
  {
   "cell_type": "markdown",
   "id": "e18acfcd",
   "metadata": {},
   "source": [
    "$\\sum_{i=1}^{n} x_k$"
   ]
  },
  {
   "cell_type": "code",
   "execution_count": 1,
   "id": "db4bbe9e",
   "metadata": {},
   "outputs": [],
   "source": [
    "import numpy as np\n",
    "import matplotlib.pyplot as plt\n",
    "import Luiz_Henrique as lh"
   ]
  },
  {
   "cell_type": "code",
   "execution_count": 17,
   "id": "64652bdd",
   "metadata": {},
   "outputs": [
    {
     "name": "stdout",
     "output_type": "stream",
     "text": [
      "[1.39445328 2.11595759 2.63544069 3.0394831  3.41466534]\n"
     ]
    }
   ],
   "source": [
    "x = np.array([0.2, 2.7, 4.5, 5.9, 7.2])\n",
    "y = np.array([1.5, 1.8, 3.1, 2.6, 3.6])\n",
    "\n",
    "soma_x = np.sum(x)\n",
    "soma_y = np.sum(y)\n",
    "soma_x2 = np.sum(x ** 2)\n",
    "soma_xy = np.sum(x * y)\n",
    "n = len(x)\n",
    "\n",
    "m = np.array([[n, soma_x], [soma_x, soma_x2]])\n",
    "\n",
    "v = np.array([soma_y, soma_xy])\n",
    "\n",
    "coeficientes = np.linalg.solve(m, v)\n",
    "b0, b1 = coeficientes\n",
    "print(b0 + b1 * x)"
   ]
  },
  {
   "cell_type": "code",
   "execution_count": 3,
   "id": "79b430b0",
   "metadata": {},
   "outputs": [
    {
     "data": {
      "text/plain": [
       "np.float64(635.0400000000002)"
      ]
     },
     "execution_count": 3,
     "metadata": {},
     "output_type": "execute_result"
    }
   ],
   "source": [
    "u = sum(b0 + b1 * x)\n",
    "(soma_y + u) ** 2"
   ]
  },
  {
   "cell_type": "code",
   "execution_count": 4,
   "id": "cb41de99",
   "metadata": {},
   "outputs": [
    {
     "name": "stdout",
     "output_type": "stream",
     "text": [
      "-15.258064516129032\n"
     ]
    }
   ],
   "source": [
    "u = b0 + b1 * x\n",
    "r = sum(soma_y - u) ** 2\n",
    "pi = 1 - r / (soma_y ** 2 - (soma_y / n))\n",
    "print(pi)"
   ]
  },
  {
   "cell_type": "code",
   "execution_count": 5,
   "id": "d5123fff",
   "metadata": {},
   "outputs": [
    {
     "name": "stdout",
     "output_type": "stream",
     "text": [
      "1.0\n"
     ]
    }
   ],
   "source": [
    "u = sum(b0 + b1 * x)\n",
    "r = (soma_y - u) ** 2\n",
    "pi = 1 - r / (soma_y ** 2 - (soma_y / n))\n",
    "print(pi)"
   ]
  },
  {
   "cell_type": "code",
   "execution_count": 20,
   "id": "74360043",
   "metadata": {},
   "outputs": [
    {
     "ename": "TypeError",
     "evalue": "'numpy.float64' object is not iterable",
     "output_type": "error",
     "traceback": [
      "\u001b[0;31m---------------------------------------------------------------------------\u001b[0m",
      "\u001b[0;31mTypeError\u001b[0m                                 Traceback (most recent call last)",
      "Cell \u001b[0;32mIn[20], line 3\u001b[0m\n\u001b[1;32m      1\u001b[0m u \u001b[38;5;241m=\u001b[39m \u001b[38;5;28msum\u001b[39m(b0 \u001b[38;5;241m+\u001b[39m b1 \u001b[38;5;241m*\u001b[39m x)\n\u001b[1;32m      2\u001b[0m r \u001b[38;5;241m=\u001b[39m (soma_y \u001b[38;5;241m-\u001b[39m u) \u001b[38;5;241m*\u001b[39m\u001b[38;5;241m*\u001b[39m \u001b[38;5;241m2\u001b[39m\n\u001b[0;32m----> 3\u001b[0m pi \u001b[38;5;241m=\u001b[39m \u001b[38;5;241m1\u001b[39m \u001b[38;5;241m-\u001b[39m r \u001b[38;5;241m/\u001b[39m (\u001b[38;5;28;43msum\u001b[39;49m\u001b[43m(\u001b[49m\u001b[43msoma_y\u001b[49m\u001b[43m \u001b[49m\u001b[38;5;241;43m*\u001b[39;49m\u001b[38;5;241;43m*\u001b[39;49m\u001b[43m \u001b[49m\u001b[38;5;241;43m2\u001b[39;49m\u001b[43m)\u001b[49m \u001b[38;5;241m-\u001b[39m (soma_y \u001b[38;5;241m*\u001b[39m\u001b[38;5;241m*\u001b[39m \u001b[38;5;241m2\u001b[39m\u001b[38;5;241m/\u001b[39m n))\n\u001b[1;32m      4\u001b[0m \u001b[38;5;28mprint\u001b[39m(pi)\n",
      "\u001b[0;31mTypeError\u001b[0m: 'numpy.float64' object is not iterable"
     ]
    }
   ],
   "source": [
    "u = sum(b0 + b1 * x)\n",
    "r = (soma_y - u) ** 2\n",
    "pi = 1 - r / (sum(soma_y ** 2) - (soma_y ** 2/ n))\n",
    "print(pi)"
   ]
  },
  {
   "cell_type": "code",
   "execution_count": 19,
   "id": "d6fe4255",
   "metadata": {},
   "outputs": [
    {
     "name": "stdout",
     "output_type": "stream",
     "text": [
      "0.8193354000292032\n"
     ]
    }
   ],
   "source": [
    "u = b0 + b1 * x\n",
    "\n",
    "residuos = y - u\n",
    "ss_res = np.sum(residuos ** 2)\n",
    "\n",
    "media_y = np.mean(y)\n",
    "ss_tot = np.sum((y - media_y) ** 2)\n",
    "\n",
    "r2 = 1 - ss_res / ss_tot\n",
    "print(r2)"
   ]
  },
  {
   "cell_type": "code",
   "execution_count": null,
   "id": "09596765",
   "metadata": {},
   "outputs": [
    {
     "name": "stdout",
     "output_type": "stream",
     "text": [
      "8.06183865948162\n"
     ]
    }
   ],
   "source": [
    "u = b0 + b1 * x\n",
    "\n",
    "ss_res = np.sum(y - u ** 2)\n",
    "\n",
    "media_y = np.mean(y)\n",
    "ss_tot = np.sum((y - media_y) ** 2)\n",
    "\n",
    "r2 = 1 - ss_res / ss_tot\n",
    "print(r2)"
   ]
  },
  {
   "cell_type": "code",
   "execution_count": null,
   "id": "9ae7a3ed",
   "metadata": {},
   "outputs": [
    {
     "name": "stdout",
     "output_type": "stream",
     "text": [
      "[-30.99834622 -30.92307376 -30.80967731 -30.83399393 -30.79476844]\n"
     ]
    }
   ],
   "source": [
    "u = b0 + b1 * x\n",
    "\n",
    "res = y - u\n",
    "r = np.sum(res ** 2)\n",
    "\n",
    "y2 = y ** 2\n",
    "\n",
    "r2 = 1 - r / y2 - (soma_y ** 2 / n)\n",
    "print(r2)"
   ]
  },
  {
   "cell_type": "markdown",
   "id": "b9574213",
   "metadata": {},
   "source": [
    "Dado o experimento:\n",
    "\n",
    "| x1 | -3 | -2 | 0 | 1 | 3 | 5 |\n",
    "| x2 | 1 | 2 | 4 | 5 | 8 | 9 |\n",
    "| y | 13 | 18 | 22 | 27 | 36 | 39 |"
   ]
  },
  {
   "cell_type": "code",
   "execution_count": null,
   "id": "929c2924",
   "metadata": {},
   "outputs": [
    {
     "ename": "ValueError",
     "evalue": "setting an array element with a sequence. The requested array has an inhomogeneous shape after 1 dimensions. The detected shape was (3,) + inhomogeneous part.",
     "output_type": "error",
     "traceback": [
      "\u001b[0;31m---------------------------------------------------------------------------\u001b[0m",
      "\u001b[0;31mValueError\u001b[0m                                Traceback (most recent call last)",
      "Cell \u001b[0;32mIn[33], line 18\u001b[0m\n\u001b[1;32m      5\u001b[0m n \u001b[38;5;241m=\u001b[39m (\u001b[38;5;28mlen\u001b[39m(x1))\n\u001b[1;32m      7\u001b[0m \u001b[38;5;124;03m\"\"\"\u001b[39;00m\n\u001b[1;32m      8\u001b[0m \u001b[38;5;124;03msoma_x1 = np.sum(x1)\u001b[39;00m\n\u001b[1;32m      9\u001b[0m \u001b[38;5;124;03msoma_x2 = np.sum(x2)\u001b[39;00m\n\u001b[0;32m   (...)\u001b[0m\n\u001b[1;32m     15\u001b[0m \u001b[38;5;124;03msoma_x22 = np.sum(x2 ** 2)\u001b[39;00m\n\u001b[1;32m     16\u001b[0m \u001b[38;5;124;03m\"\"\"\u001b[39;00m\n\u001b[0;32m---> 18\u001b[0m matriz \u001b[38;5;241m=\u001b[39m \u001b[43mnp\u001b[49m\u001b[38;5;241;43m.\u001b[39;49m\u001b[43marray\u001b[49m\u001b[43m(\u001b[49m\u001b[43m[\u001b[49m\u001b[43m[\u001b[49m\u001b[43m(\u001b[49m\u001b[38;5;28;43mlen\u001b[39;49m\u001b[43m(\u001b[49m\u001b[43mx1\u001b[49m\u001b[43m)\u001b[49m\u001b[43m,\u001b[49m\u001b[43m \u001b[49m\u001b[43mnp\u001b[49m\u001b[38;5;241;43m.\u001b[39;49m\u001b[43msum\u001b[49m\u001b[43m(\u001b[49m\u001b[43mx1\u001b[49m\u001b[43m)\u001b[49m\u001b[43m,\u001b[49m\u001b[43m \u001b[49m\u001b[43mnp\u001b[49m\u001b[38;5;241;43m.\u001b[39;49m\u001b[43msum\u001b[49m\u001b[43m(\u001b[49m\u001b[43mx2\u001b[49m\u001b[43m)\u001b[49m\u001b[43m)\u001b[49m\u001b[43m]\u001b[49m\u001b[43m,\u001b[49m\n\u001b[1;32m     19\u001b[0m \u001b[43m                \u001b[49m\u001b[43m[\u001b[49m\u001b[43m(\u001b[49m\u001b[43mnp\u001b[49m\u001b[38;5;241;43m.\u001b[39;49m\u001b[43msum\u001b[49m\u001b[43m(\u001b[49m\u001b[43mx1\u001b[49m\u001b[43m)\u001b[49m\u001b[43m,\u001b[49m\u001b[43m \u001b[49m\u001b[43mnp\u001b[49m\u001b[38;5;241;43m.\u001b[39;49m\u001b[43msum\u001b[49m\u001b[43m(\u001b[49m\u001b[43mx1\u001b[49m\u001b[38;5;241;43m*\u001b[39;49m\u001b[38;5;241;43m*\u001b[39;49m\u001b[38;5;241;43m2\u001b[39;49m\u001b[43m)\u001b[49m\u001b[43m,\u001b[49m\u001b[43m \u001b[49m\u001b[43mnp\u001b[49m\u001b[38;5;241;43m.\u001b[39;49m\u001b[43msum\u001b[49m\u001b[43m(\u001b[49m\u001b[43mx1\u001b[49m\u001b[43m \u001b[49m\u001b[38;5;241;43m*\u001b[39;49m\u001b[43m \u001b[49m\u001b[43mx2\u001b[49m\u001b[43m)\u001b[49m\u001b[43m)\u001b[49m\u001b[43m]\u001b[49m\u001b[43m,\u001b[49m\n\u001b[1;32m     20\u001b[0m \u001b[43m                \u001b[49m\u001b[43m[\u001b[49m\u001b[43mnp\u001b[49m\u001b[38;5;241;43m.\u001b[39;49m\u001b[43msum\u001b[49m\u001b[43m(\u001b[49m\u001b[43mx2\u001b[49m\u001b[43m)\u001b[49m\u001b[43m,\u001b[49m\u001b[43m \u001b[49m\u001b[43mnp\u001b[49m\u001b[38;5;241;43m.\u001b[39;49m\u001b[43msum\u001b[49m\u001b[43m(\u001b[49m\u001b[43mx1\u001b[49m\u001b[43m \u001b[49m\u001b[38;5;241;43m*\u001b[39;49m\u001b[43m \u001b[49m\u001b[43mx2\u001b[49m\u001b[43m)\u001b[49m\u001b[43m,\u001b[49m\u001b[43m \u001b[49m\u001b[43mnp\u001b[49m\u001b[38;5;241;43m.\u001b[39;49m\u001b[43msum\u001b[49m\u001b[43m(\u001b[49m\u001b[43mx2\u001b[49m\u001b[43m \u001b[49m\u001b[38;5;241;43m*\u001b[39;49m\u001b[38;5;241;43m*\u001b[39;49m\u001b[43m \u001b[49m\u001b[38;5;241;43m2\u001b[39;49m\u001b[43m)\u001b[49m\u001b[43m]\u001b[49m\u001b[43m]\u001b[49m\u001b[43m)\u001b[49m\n\u001b[1;32m     22\u001b[0m vetor \u001b[38;5;241m=\u001b[39m np\u001b[38;5;241m.\u001b[39marray([np\u001b[38;5;241m.\u001b[39msum(y), np\u001b[38;5;241m.\u001b[39msum(x1\u001b[38;5;241m*\u001b[39my), np\u001b[38;5;241m.\u001b[39msum(x2 \u001b[38;5;241m*\u001b[39m y)])\n\u001b[1;32m     24\u001b[0m b0, b1, b2 \u001b[38;5;241m=\u001b[39m np\u001b[38;5;241m.\u001b[39mlinalg\u001b[38;5;241m.\u001b[39msolve(matriz, vetor)\n",
      "\u001b[0;31mValueError\u001b[0m: setting an array element with a sequence. The requested array has an inhomogeneous shape after 1 dimensions. The detected shape was (3,) + inhomogeneous part."
     ]
    }
   ],
   "source": [
    "x1 = np.array([-3, -2, 0, 1, 3, 5])\n",
    "x2 = np.array([1, 2, 4, 5, 8, 9])\n",
    "y = np.array([13, 18, 22, 27, 36, 39])\n",
    "\n",
    "n = (len(x1))\n",
    "\n",
    "\"\"\"\n",
    "soma_x1 = np.sum(x1)\n",
    "soma_x2 = np.sum(x2)\n",
    "soma_y = np.sum(y)\n",
    "soma_x1x2 = np.sum(x1 * x2)\n",
    "soma_x1y = np.sum(x1 * y)\n",
    "soma_x2y = np.sum(x2 * y)\n",
    "soma_x12 = np.sum(x1 ** 2)\n",
    "soma_x22 = np.sum(x2 ** 2)\n",
    "\"\"\"\n",
    "\n",
    "matriz = np.array([[(len(x1), np.sum(x1), np.sum(x2))],\n",
    "                [(np.sum(x1), np.sum(x1**2), np.sum(x1 * x2))],\n",
    "                [np.sum(x2), np.sum(x1 * x2), np.sum(x2 ** 2)]])\n",
    "\n",
    "vetor = np.array([np.sum(y), np.sum(x1*y), np.sum(x2 * y)])\n",
    "\n",
    "b0, b1, b2 = np.linalg.solve(matriz, vetor)\n",
    "def v(x1, x2, b0, b1, b2): return b0 + b1 * x1 + b2 * x2\n",
    "print(v(x1, x2, b0, b1, b2))"
   ]
  },
  {
   "cell_type": "code",
   "execution_count": 8,
   "id": "38f450e6",
   "metadata": {},
   "outputs": [
    {
     "name": "stdout",
     "output_type": "stream",
     "text": [
      "23.164948453608243\n"
     ]
    }
   ],
   "source": [
    "x1 = np.array([-3, -2, 0, 1, 3, 5])\n",
    "x2 = np.array([1, 2, 4, 5, 8, 9])\n",
    "y = np.array([13, 18, 22, 27, 36, 39])\n",
    "\n",
    "n = (len(x1))\n",
    "\n",
    "soma_x1 = np.sum(x1)\n",
    "soma_x2 = np.sum(x2)\n",
    "soma_y = np.sum(y)\n",
    "soma_x1x2 = np.sum(x1 * x2)\n",
    "soma_x1y = np.sum(x1 * y)\n",
    "soma_x2y = np.sum(x2 * y)\n",
    "soma_x12 = np.sum(x1 ** 2)\n",
    "soma_x22 = np.sum(x2 ** 2)\n",
    "\n",
    "matriz = np.array([[n, soma_x1, soma_x2],\n",
    "                [soma_x1, soma_x12, soma_x1x2],\n",
    "                [soma_x2, soma_x1x2, soma_x22]])\n",
    "\n",
    "vetor = np.array([soma_y, soma_x1y, soma_x2y])\n",
    "\n",
    "b0, b1, b2 = np.linalg.solve(matriz, vetor)\n",
    "def v(x1, x2, b0, b1, b2): return b0 + b1 * x1 + b2 * x2\n",
    "print(v(0, 4, b0, b1, b2))"
   ]
  },
  {
   "cell_type": "markdown",
   "id": "7286bdd2",
   "metadata": {},
   "source": [
    "Gerando uma função"
   ]
  },
  {
   "cell_type": "code",
   "execution_count": null,
   "id": "c9d17625",
   "metadata": {},
   "outputs": [],
   "source": [
    "def qualidade_ajuste(x1, x2, y, x_1, x_2):\n",
    "    x1 = np.array([x1])\n",
    "    x2 = np.array([x2])\n",
    "    y = np.array([y])\n",
    "\n",
    "    n = (len(x1))\n",
    "\n",
    "    soma_x1 = np.sum(x1)\n",
    "    soma_x2 = np.sum(x2)\n",
    "    soma_y = np.sum(y)\n",
    "    soma_x1x2 = np.sum(x1 * x2)\n",
    "    soma_x1y = np.sum(x1 * y)\n",
    "    soma_x2y = np.sum(x2 * y)\n",
    "    soma_x1_2 = np.sum(x1 ** 2)\n",
    "    soma_x2_2 = np.sum(x2 ** 2)\n",
    "\n",
    "    matriz = np.array([[n, soma_x1, soma_x2],\n",
    "                    [soma_x1, soma_x12, soma_x1x2],\n",
    "                    [soma_x2, soma_x1x2, soma_x22]])\n",
    "\n",
    "    vetor = np.array([soma_y, soma_x1y, soma_x2y])\n",
    "\n",
    "    b0, b1, b2 = np.linalg.solve(matriz, vetor)\n",
    "    def v(x_1, x_2, b0, b1, b2): return b0 + b1 * x1 + b2 * x2"
   ]
  },
  {
   "cell_type": "code",
   "execution_count": 15,
   "id": "9ca2458c",
   "metadata": {},
   "outputs": [
    {
     "name": "stdout",
     "output_type": "stream",
     "text": [
      "Valores estimados de y: [13.63917526 16.81443299 23.16494845 26.34020619 36.         39.04123711]\n"
     ]
    }
   ],
   "source": [
    "import numpy as np\n",
    "\n",
    "def qualidade_ajuste(x1, x2, y, x_1, x_2):\n",
    "    x1 = np.array(x1)\n",
    "    x2 = np.array(x2)\n",
    "    y = np.array(y)\n",
    "\n",
    "    n = len(x1)\n",
    "\n",
    "    soma_x1 = np.sum(x1)\n",
    "    soma_x2 = np.sum(x2)\n",
    "    soma_y = np.sum(y)\n",
    "    soma_x1x2 = np.sum(x1 * x2)\n",
    "    soma_x1y = np.sum(x1 * y)\n",
    "    soma_x2y = np.sum(x2 * y)\n",
    "    soma_x1_2 = np.sum(x1 ** 2)\n",
    "    soma_x2_2 = np.sum(x2 ** 2)\n",
    "\n",
    "    # Construção do sistema linear\n",
    "    matriz = np.array([\n",
    "        [n, soma_x1, soma_x2],\n",
    "        [soma_x1, soma_x1_2, soma_x1x2],\n",
    "        [soma_x2, soma_x1x2, soma_x2_2]\n",
    "    ])\n",
    "\n",
    "    vetor = np.array([soma_y, soma_x1y, soma_x2y])\n",
    "\n",
    "    # Resolvendo o sistema linear para encontrar os coeficientes\n",
    "    b0, b1, b2 = np.linalg.solve(matriz, vetor)\n",
    "\n",
    "    # Função de predição\n",
    "    def v(x1_val, x2_val):\n",
    "        return b0 + b1 * x1_val + b2 * x2_val\n",
    "\n",
    "    # Aplicar a função aos valores de entrada x_1 e x_2\n",
    "    y_estimado = v(x_1, x_2)\n",
    "\n",
    "    return y_estimado  # Pode também retornar b0, b1, b2 se quiser\n",
    "\n",
    "# Teste com arrays\n",
    "x1 = np.array([-3, -2, 0, 1, 3, 5])\n",
    "x2 = np.array([1, 2, 4, 5, 8, 9])\n",
    "y = np.array([13, 18, 22, 27, 36, 39])\n",
    "\n",
    "# Usar os próprios x1, x2 como entrada para prever os valores y\n",
    "resultado = qualidade_ajuste(x1, x2, y, x1, x2)\n",
    "print(\"Valores estimados de y:\", resultado)"
   ]
  },
  {
   "cell_type": "code",
   "execution_count": 14,
   "id": "d12b0d50",
   "metadata": {},
   "outputs": [
    {
     "name": "stdout",
     "output_type": "stream",
     "text": [
      "None\n"
     ]
    }
   ],
   "source": [
    "x1 = np.array([-3, -2, 0, 1, 3, 5])\n",
    "x2 = np.array([1, 2, 4, 5, 8, 9])\n",
    "y = np.array([13, 18, 22, 27, 36, 39])\n",
    "print(qualidade_ajuste(x1, x2, y, x1, x2))"
   ]
  }
 ],
 "metadata": {
  "kernelspec": {
   "display_name": ".venv (3.10.12)",
   "language": "python",
   "name": "python3"
  },
  "language_info": {
   "codemirror_mode": {
    "name": "ipython",
    "version": 3
   },
   "file_extension": ".py",
   "mimetype": "text/x-python",
   "name": "python",
   "nbconvert_exporter": "python",
   "pygments_lexer": "ipython3",
   "version": "3.10.12"
  }
 },
 "nbformat": 4,
 "nbformat_minor": 5
}
