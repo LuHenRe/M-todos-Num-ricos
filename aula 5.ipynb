{
 "cells": [
  {
   "cell_type": "markdown",
   "id": "68c6e1ca",
   "metadata": {},
   "source": [
    "# Aula 5 - Métodos Numéricos"
   ]
  },
  {
   "cell_type": "markdown",
   "id": "7406d50b",
   "metadata": {},
   "source": []
  },
  {
   "cell_type": "markdown",
   "id": "9e22da11",
   "metadata": {},
   "source": [
    "Importação de bibliotecas"
   ]
  },
  {
   "cell_type": "code",
   "execution_count": 1,
   "id": "830ce353",
   "metadata": {},
   "outputs": [],
   "source": [
    "import numpy as np"
   ]
  },
  {
   "cell_type": "code",
   "execution_count": 2,
   "id": "c63b5093",
   "metadata": {},
   "outputs": [],
   "source": [
    "def funcao(x): return 2 * x ** 3 - np.cos(x + 1) - 4\n",
    "\n",
    "a = 1.0\n",
    "b = 2.0"
   ]
  },
  {
   "cell_type": "markdown",
   "id": "d1742898",
   "metadata": {},
   "source": [
    "Testando se o intervalo possui uma raiz"
   ]
  },
  {
   "cell_type": "code",
   "execution_count": 3,
   "id": "02f8d805",
   "metadata": {},
   "outputs": [
    {
     "name": "stdout",
     "output_type": "stream",
     "text": [
      "-20.574240708969498\n"
     ]
    }
   ],
   "source": [
    "print(funcao(a) * funcao(b))"
   ]
  },
  {
   "cell_type": "markdown",
   "id": "128d5874",
   "metadata": {},
   "source": [
    "Ponto inicial"
   ]
  },
  {
   "cell_type": "code",
   "execution_count": 4,
   "id": "09b4caef",
   "metadata": {},
   "outputs": [
    {
     "name": "stdout",
     "output_type": "stream",
     "text": [
      "1.5 3.551143615546934\n"
     ]
    }
   ],
   "source": [
    "c = (a + b) / 2\n",
    "print(c, funcao(c))"
   ]
  },
  {
   "cell_type": "code",
   "execution_count": 5,
   "id": "dcb5606a",
   "metadata": {},
   "outputs": [],
   "source": [
    "if funcao(a) * funcao(c) < 0:\n",
    "    b = c\n",
    "\n",
    "else:\n",
    "    a = c"
   ]
  },
  {
   "cell_type": "code",
   "execution_count": 6,
   "id": "65f27ad0",
   "metadata": {},
   "outputs": [
    {
     "name": "stdout",
     "output_type": "stream",
     "text": [
      "1.0 1.5\n"
     ]
    }
   ],
   "source": [
    "print(a, b)"
   ]
  },
  {
   "cell_type": "code",
   "execution_count": 7,
   "id": "71831cad",
   "metadata": {},
   "outputs": [
    {
     "name": "stdout",
     "output_type": "stream",
     "text": [
      "1.25 0.5344236227227395\n"
     ]
    }
   ],
   "source": [
    "c = (a + b) / 2\n",
    "print(c, funcao(c))"
   ]
  },
  {
   "cell_type": "code",
   "execution_count": 8,
   "id": "eabcbf5c",
   "metadata": {},
   "outputs": [],
   "source": [
    "if funcao(a) * funcao(c) < 0:\n",
    "    b = c\n",
    "\n",
    "else:\n",
    "    a = c"
   ]
  },
  {
   "cell_type": "code",
   "execution_count": 9,
   "id": "eaa007cc",
   "metadata": {},
   "outputs": [
    {
     "name": "stdout",
     "output_type": "stream",
     "text": [
      "1.0 1.25\n"
     ]
    }
   ],
   "source": [
    "print(a, b)"
   ]
  },
  {
   "cell_type": "code",
   "execution_count": 10,
   "id": "d16af2c7",
   "metadata": {},
   "outputs": [
    {
     "name": "stdout",
     "output_type": "stream",
     "text": [
      "1.125 -0.6260774152956952\n"
     ]
    }
   ],
   "source": [
    "c = (a + b) / 2\n",
    "print(c, funcao(c))"
   ]
  },
  {
   "cell_type": "markdown",
   "id": "63f7279d",
   "metadata": {},
   "source": [
    "##### Realizando o loop"
   ]
  },
  {
   "cell_type": "markdown",
   "id": "7e3e3674",
   "metadata": {},
   "source": [
    "Criando a tolerância"
   ]
  },
  {
   "cell_type": "code",
   "execution_count": 11,
   "id": "ad1f9e16",
   "metadata": {},
   "outputs": [],
   "source": [
    "tol = 1e-3\n",
    "\n",
    "a = 1.0\n",
    "b = 2.0"
   ]
  },
  {
   "cell_type": "markdown",
   "id": "ffd78e86",
   "metadata": {},
   "source": [
    "Criando o Loop"
   ]
  },
  {
   "cell_type": "code",
   "execution_count": 12,
   "id": "f2fdf192",
   "metadata": {},
   "outputs": [
    {
     "name": "stdout",
     "output_type": "stream",
     "text": [
      "A raiz da equação é: 1.1953125\n",
      "Função da raiz: 0.00036283591799701753\n"
     ]
    }
   ],
   "source": [
    "raiz = (a + b) / 2\n",
    "\n",
    "while abs(funcao(raiz)) > tol:\n",
    "    if funcao(a) * funcao(raiz) < 0:\n",
    "        b = raiz\n",
    "    else:\n",
    "        a = raiz\n",
    "\n",
    "    raiz = (a + b) / 2\n",
    "\n",
    "print(\"A raiz da equação é:\", raiz)\n",
    "print(f\"Função da raiz: {funcao(raiz)}\")"
   ]
  },
  {
   "cell_type": "markdown",
   "id": "1e9d5bf5",
   "metadata": {},
   "source": [
    "#### Fazendo uma função"
   ]
  },
  {
   "cell_type": "code",
   "execution_count": 13,
   "id": "8f1e075a",
   "metadata": {},
   "outputs": [],
   "source": [
    "def bissecao(funcao, a, b, tol=1e-4):\n",
    "    raiz = (a + b) / 2\n",
    "\n",
    "    while abs(funcao(raiz)) > tol:\n",
    "        if funcao(a) * funcao(raiz) < 0:\n",
    "            b = raiz\n",
    "        else:\n",
    "            a = raiz\n",
    "\n",
    "        raiz = (a + b) / 2\n",
    "\n",
    "    print(f\"A raiz da equação é: {raiz}\\nFunção da raiz: {funcao(raiz)}\")"
   ]
  },
  {
   "cell_type": "code",
   "execution_count": 14,
   "id": "51737ab3",
   "metadata": {},
   "outputs": [
    {
     "name": "stdout",
     "output_type": "stream",
     "text": [
      "A raiz da equação é: 1.195281982421875\n",
      "Função da raiz: 7.646909665837143e-05\n"
     ]
    }
   ],
   "source": [
    "bissecao(funcao, 1.0, 2.0)"
   ]
  },
  {
   "cell_type": "code",
   "execution_count": 15,
   "id": "30039cb0",
   "metadata": {},
   "outputs": [],
   "source": [
    "from math import sqrt\n",
    "\n",
    "def funcao2(x): return sqrt(x) - np.cos(x)"
   ]
  },
  {
   "cell_type": "code",
   "execution_count": 16,
   "id": "75c8aa7b",
   "metadata": {},
   "outputs": [
    {
     "name": "stdout",
     "output_type": "stream",
     "text": [
      "A raiz da equação é: 0.6417236328125\n",
      "Função da raiz: 1.1324904157783422e-05\n"
     ]
    }
   ],
   "source": [
    "bissecao(funcao2, 0.0, 1)"
   ]
  },
  {
   "cell_type": "code",
   "execution_count": 18,
   "id": "38483839",
   "metadata": {},
   "outputs": [
    {
     "name": "stdout",
     "output_type": "stream",
     "text": [
      "A raiz da equação é: 0.6417236328125\n",
      "Função da raiz: 1.1324904157783422e-05\n"
     ]
    }
   ],
   "source": [
    "import Luiz_Henrique as LH\n",
    "\n",
    "LH.bissecao(funcao2, 0.0, 1)"
   ]
  }
 ],
 "metadata": {
  "kernelspec": {
   "display_name": ".venv (3.10.12)",
   "language": "python",
   "name": "python3"
  },
  "language_info": {
   "codemirror_mode": {
    "name": "ipython",
    "version": 3
   },
   "file_extension": ".py",
   "mimetype": "text/x-python",
   "name": "python",
   "nbconvert_exporter": "python",
   "pygments_lexer": "ipython3",
   "version": "3.10.12"
  }
 },
 "nbformat": 4,
 "nbformat_minor": 5
}
