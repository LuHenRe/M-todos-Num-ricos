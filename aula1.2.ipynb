{
 "cells": [
  {
   "cell_type": "markdown",
   "id": "ecf7279a",
   "metadata": {},
   "source": [
    "# Métodos Numéricos - Aula 1/2"
   ]
  },
  {
   "cell_type": "code",
   "execution_count": 1,
   "id": "d775197f",
   "metadata": {},
   "outputs": [
    {
     "data": {
      "text/plain": [
       "'oi'"
      ]
     },
     "execution_count": 1,
     "metadata": {},
     "output_type": "execute_result"
    }
   ],
   "source": [
    "oi = \"oi\"\n",
    "oi"
   ]
  },
  {
   "cell_type": "code",
   "execution_count": 3,
   "id": "b21d639f",
   "metadata": {},
   "outputs": [],
   "source": [
    "import numpy as np"
   ]
  },
  {
   "cell_type": "code",
   "execution_count": 4,
   "id": "30797b2e",
   "metadata": {},
   "outputs": [
    {
     "data": {
      "text/plain": [
       "array([1, 2])"
      ]
     },
     "execution_count": 4,
     "metadata": {},
     "output_type": "execute_result"
    }
   ],
   "source": [
    "np.array([1, 2])"
   ]
  },
  {
   "cell_type": "code",
   "execution_count": 14,
   "id": "8e3c0fb5",
   "metadata": {},
   "outputs": [
    {
     "name": "stdout",
     "output_type": "stream",
     "text": [
      "[[ 1  2  3]\n",
      " [ 4  5  6]\n",
      " [ 7  8  9]\n",
      " [10 11 12]]\n",
      "\n",
      "[[ 1  2  3]\n",
      " [ 4  5  6]\n",
      " [ 7  8  9]\n",
      " [10 11 12]]\n"
     ]
    }
   ],
   "source": [
    "print(np.array([[1, 2, 3], [4, 5, 6], [7, 8, 9], [10, 11, 12]]))\n",
    "print('')\n",
    "print(np.array([1, 2, 3, 4, 5, 6, 7, 8, 9, 10, 11, 12]).reshape(4, 3))"
   ]
  },
  {
   "cell_type": "code",
   "execution_count": 20,
   "id": "39ed8e29",
   "metadata": {},
   "outputs": [
    {
     "name": "stdout",
     "output_type": "stream",
     "text": [
      "número de dimensões: 2\n",
      "shape: (3, 2)\n",
      "tamanho: 6\n",
      "<class 'tuple'>\n",
      "colunas: 2\n"
     ]
    }
   ],
   "source": [
    "a = np.array([[1, 2],[3, 4], [5, 6]])\n",
    "print(f\"número de dimensões: {a.ndim}\")\n",
    "print(f\"shape: {a.shape}\")\n",
    "print(f\"tamanho: {a.size}\")\n",
    "print(type(a.shape))\n",
    "print(f\"colunas: {a.shape[1]}\")"
   ]
  },
  {
   "cell_type": "code",
   "execution_count": 29,
   "id": "8afdc671",
   "metadata": {},
   "outputs": [
    {
     "name": "stdout",
     "output_type": "stream",
     "text": [
      "[2 4 6 8]\n",
      "[0 0 0 0]\n",
      "[ 1  4  9 16]\n",
      "[1. 1. 1. 1.]\n",
      "[ 1  4  9 16]\n",
      "30\n"
     ]
    }
   ],
   "source": [
    "x = np.array([1, 2, 3, 4])\n",
    "y = np.array([1, 2, 3, 4])\n",
    "print(x + y)\n",
    "print(x - y)\n",
    "print(x * y)\n",
    "print(x / y)\n",
    "print(x ** 2)\n",
    "print(np.dot(x, y))"
   ]
  },
  {
   "cell_type": "markdown",
   "id": "3c64ab1c",
   "metadata": {},
   "source": [
    "## Indexação"
   ]
  },
  {
   "cell_type": "code",
   "execution_count": null,
   "id": "729f559c",
   "metadata": {},
   "outputs": [
    {
     "name": "stdout",
     "output_type": "stream",
     "text": [
      "20\n",
      "50\n",
      "[10 20 30]\n",
      "[10 20 30 40]\n",
      "[10 30 50]\n",
      "[10 40]\n",
      "[10 50]\n",
      "[50 40 30 20 10]\n"
     ]
    }
   ],
   "source": [
    "xax = np.array([10, 20, 30, 40, 50])\n",
    "print(xax[1])\n",
    "print(xax[-1])\n",
    "print(xax[0:3])\n",
    "print(xax[:-1])\n",
    "print(xax[::-1])"
   ]
  },
  {
   "cell_type": "code",
   "execution_count": null,
   "id": "e51c1034",
   "metadata": {},
   "outputs": [
    {
     "name": "stdout",
     "output_type": "stream",
     "text": [
      "[10 20 30 40 50]\n",
      "[10 30 50]\n",
      "[10 40]\n",
      "[10 50]\n",
      "[10]\n"
     ]
    }
   ],
   "source": [
    "print(xax[::1])\n",
    "print(xax[::2])\n",
    "print(xax[::3])\n",
    "print(xax[::4])\n",
    "print(xax[::5])"
   ]
  },
  {
   "cell_type": "code",
   "execution_count": 56,
   "id": "3777e23c",
   "metadata": {},
   "outputs": [
    {
     "name": "stdout",
     "output_type": "stream",
     "text": [
      "[[7 8]]\n",
      "\n",
      " [[ 1  2]\n",
      " [10 20]\n",
      " [ 7  8]]\n"
     ]
    }
   ],
   "source": [
    "arr = np.array([[1, 2, 3, 4, 5], [10, 20, 30, 40, 50], [7, 8, 9, 10, 11]])\n",
    "print(arr[2 : 3, 0 : 2])\n",
    "print(\"\\n\", arr[:, 0: 2])\n",
    "# linha e coluna"
   ]
  },
  {
   "cell_type": "code",
   "execution_count": null,
   "id": "3f35475f",
   "metadata": {},
   "outputs": [
    {
     "data": {
      "text/plain": [
       "array([10, 20, 30, 40, 50])"
      ]
     },
     "execution_count": 68,
     "metadata": {},
     "output_type": "execute_result"
    }
   ],
   "source": [
    "np.array([i for i in range(10, 51, 10)])"
   ]
  },
  {
   "cell_type": "code",
   "execution_count": null,
   "id": "fa36241b",
   "metadata": {},
   "outputs": [],
   "source": []
  }
 ],
 "metadata": {
  "kernelspec": {
   "display_name": ".venv (3.10.12)",
   "language": "python",
   "name": "python3"
  },
  "language_info": {
   "codemirror_mode": {
    "name": "ipython",
    "version": 3
   },
   "file_extension": ".py",
   "mimetype": "text/x-python",
   "name": "python",
   "nbconvert_exporter": "python",
   "pygments_lexer": "ipython3",
   "version": "3.10.12"
  }
 },
 "nbformat": 4,
 "nbformat_minor": 5
}
