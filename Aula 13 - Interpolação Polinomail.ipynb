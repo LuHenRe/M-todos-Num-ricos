{
 "cells": [
  {
   "cell_type": "markdown",
   "id": "6f20f003-c41a-4b70-9046-bb653d5d022f",
   "metadata": {},
   "source": [
    "# Aula 13 - Métodos Numéricos"
   ]
  },
  {
   "cell_type": "markdown",
   "id": "527dcf43-3fe1-4791-a980-d3f07d9d7491",
   "metadata": {},
   "source": [
    "## Interpolação Polinomial"
   ]
  },
  {
   "cell_type": "markdown",
   "id": "2cb62373-632c-46b9-a76a-cf5c770bc547",
   "metadata": {},
   "source": [
    "Basicamente, interpolar significa ajustar uma curva entre dois pontos de um grupo de dados afim de obter valores intermediários. Na interpolação polinomial essas curvas são polinômios, os chamados Polinômios Interpoladores."
   ]
  },
  {
   "cell_type": "markdown",
   "id": "0f56fca1-ec57-4e27-bc15-8b04bf08d115",
   "metadata": {},
   "source": [
    "<center>p(x) = $ \\sum_{1}^{n} a_{k}x^k $</center>"
   ]
  },
  {
   "cell_type": "markdown",
   "id": "2d2ffc81-520b-431c-a2e9-c8089881e25b",
   "metadata": {},
   "source": [
    "Alguns motivos para usar um polinômio como função interpoladora:\n",
    "\n",
    "• Se p é um polinômio de grau n, para um número real x, p(x) é\n",
    "calculado através de operações de multiplicação e operações de adição.\n",
    "\n",
    "• As derivadas e as primitivas de p(x) são, também, polinômios.\n",
    "\n",
    "• O teorema de Weierstrass garente que:\n",
    "\n",
    "Se f é uma função contínua definida no intervalo fechado [a, b] e se δ\n",
    "é um número real positivo, então, existe um polinômio p tal que, para\n",
    "todo x ∈ [a, b],"
   ]
  },
  {
   "cell_type": "markdown",
   "id": "611c40fb-94bc-4f16-9edc-9a253d45c5ed",
   "metadata": {},
   "source": [
    "<center> $|f(x) − p(x)| < δ$ </center>"
   ]
  },
  {
   "cell_type": "markdown",
   "id": "a2c2982e-debc-404e-9d62-6a22497a46c9",
   "metadata": {},
   "source": [
    "existe $ p(x)/∀ x E [a, b], |f(x) − p(x)| < δ $"
   ]
  },
  {
   "cell_type": "markdown",
   "id": "a6b57b94-be78-45c4-8a22-6090b29d9c31",
   "metadata": {},
   "source": [
    "Dado um conjunto de n pontos a serem interpolados, $(x_{i}, y_{i})_{i=1}^{i=n}$ , $x_{i} \\ne; x_{j}$\n",
    "para $i \\ne j$, o polinômio interpolador escolhido deve ter grau n − 1."
   ]
  },
  {
   "cell_type": "markdown",
   "id": "04b742e0-6e07-44b9-a801-5fdad2e9224f",
   "metadata": {},
   "source": [
    "| x | 0.5 | 0.8 | 1.0 | 1.5 |\n",
    "|---|-----|-----|-----|-----|\n",
    "| y | 232 | 320 | 360 | 400 |"
   ]
  },
  {
   "cell_type": "markdown",
   "id": "d04c2475-8682-4f51-b65d-cea62bf59a7c",
   "metadata": {},
   "source": [
    "n = 4 -> n - 1 (expoente)\n",
    "\n",
    "$p_{3}(x) = a_{0} + a{1}x + a_{2}x² + a_{3}x³$"
   ]
  },
  {
   "cell_type": "markdown",
   "id": "8ee85406-42b8-4f05-8790-303f3ee3e5f9",
   "metadata": {},
   "source": [
    "<center>Polinômio Interpolador de Vandermonde</center>\n",
    "\n",
    "<center>(Matriz de Vandermonde)</center>"
   ]
  },
  {
   "cell_type": "markdown",
   "id": "914ed4da-0007-4966-95db-adfa80195f95",
   "metadata": {},
   "source": [
    "Seja $p_{n}(x) = a_{0} + a_{1}x + a_{2}x² + ... + a_{n}x^n$ o polinômio interpolador de n + 1 pontos."
   ]
  },
  {
   "cell_type": "markdown",
   "id": "fec54a97-42dd-464f-a7de-d0211e4458da",
   "metadata": {},
   "source": [
    "$p_{n}(x_{1}) = y_{1} = a_{0} + a_{1}x_{1} + a_{2}x_{1}^{2} + ... + a_{n}x_{1}^{n}$\n",
    "\n",
    "$p_{n}(x_{2}) = y_{2} = a_{0} + a_{1}x_{2} + a_{2}x_{2}^{2} + ... + a_{n}x_{2}^{n}$\n",
    "\n",
    "$p_{n}(x_{3}) = y_{3} = a_{0} + a_{1}x_{3} + a_{2}x_{3}^{2} + ... + a_{n}x_{3}^{n}$\n",
    "\n",
    "n equações e n incognitas ($a_{0}, a_{1},..., a_{n}$)\n",
    "\n",
    "$p_{n}(x_{k}) = y_{k} = a_{0} + a_{1}x_{k} + a_{2}x_{k}^{2} + ... + a_{n}x_{k}^{n}$"
   ]
  },
  {
   "cell_type": "markdown",
   "id": "8f5041d9-6d29-49f1-b9dd-4b4eaacb69e8",
   "metadata": {},
   "source": [
    "Matricialmente:\n",
    "\n",
    "(1 x0 x02 ... x0n)(a0)   (y0)\n",
    "\n",
    "(1 x1 x12 ... x1n)(a1) = (y1)\n",
    "\n",
    "(........ ... ...)(..)   (..)\n",
    "\n",
    "(1 xn xn2 ... xnn)(an)   (yn)"
   ]
  },
  {
   "cell_type": "markdown",
   "id": "69ecd245-b2e8-4fee-9b73-f8cd50c07748",
   "metadata": {},
   "source": [
    "Notação Compacta:\n",
    "\n",
    "<center>Va = y .... I</center>\n",
    "\n",
    "<center>V é chamado de Matriz de Vandermonde.</center>\n",
    "\n",
    "Prova-se que det(V)$\\ne0$ se $x_{0}\\ne x_{1}\\ne x_{2}\\ne...\\ne x_{4}$. Ou seja, o sistema I tem solução única."
   ]
  },
  {
   "cell_type": "markdown",
   "id": "2fa65434-1315-44f5-9895-67ce8511a865",
   "metadata": {},
   "source": [
    "Exercícios"
   ]
  },
  {
   "cell_type": "markdown",
   "id": "547b4065-04ce-42d3-a82c-5244f9dfcf26",
   "metadata": {},
   "source": [
    "1) Encontre o polinômio interpolador para {$(0,1), (1,6), (2,5), (3, -8)$}\n",
    "\n",
    "2) Um polinômio interpolador linear tem a forma $p_{1}(x) = a_{0} + a_{1}x$. Use a Matriz de Vandermonde para escrever uma expressão geral para $p_{1}(x)$ em função dos pontos {$(x_{0}, y_{0}), (x_{1}, y_{1})$}\n",
    "\n",
    "3) Escreva um funbção, em Python, que dados os pontos ${(x_{i}, y_{i})}_{i=1}^{i=n}$ retorne os coeficientes do polinômio interpolador de Vandermonde."
   ]
  },
  {
   "cell_type": "code",
   "execution_count": null,
   "id": "2c67977d-db36-4998-bb87-1160e3f34f9a",
   "metadata": {},
   "outputs": [],
   "source": [
    "\n",
    "\n",
    "a0 + a1 + a2 + a3 + a4 + a5"
   ]
  }
 ],
 "metadata": {
  "kernelspec": {
   "display_name": "Python 3 (ipykernel)",
   "language": "python",
   "name": "python3"
  },
  "language_info": {
   "codemirror_mode": {
    "name": "ipython",
    "version": 3
   },
   "file_extension": ".py",
   "mimetype": "text/x-python",
   "name": "python",
   "nbconvert_exporter": "python",
   "pygments_lexer": "ipython3",
   "version": "3.10.12"
  }
 },
 "nbformat": 4,
 "nbformat_minor": 5
}
