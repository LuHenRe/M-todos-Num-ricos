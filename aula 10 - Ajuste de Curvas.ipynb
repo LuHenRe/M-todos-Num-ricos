{
 "cells": [
  {
   "cell_type": "markdown",
   "id": "9f0c4dcf",
   "metadata": {},
   "source": [
    "# Aula 10 - Métodos Numéricos\n",
    "\n",
    "## Ajuste de Curvas"
   ]
  },
  {
   "cell_type": "code",
   "execution_count": 2,
   "id": "9263ab10",
   "metadata": {},
   "outputs": [],
   "source": [
    "import numpy as np\n",
    "import matplotlib.pyplot as plt\n",
    "import Luiz_Henrique as lh"
   ]
  },
  {
   "cell_type": "markdown",
   "id": "093f1252",
   "metadata": {},
   "source": [
    "### Resumo"
   ]
  },
  {
   "cell_type": "markdown",
   "id": "a4685ec4",
   "metadata": {},
   "source": [
    "x = np.array([1, 3, 5])\n",
    "\n",
    "somatório de xi de i = 1 até n : np.sum(x)\n",
    "\n",
    "somatório de xi² de i = 1 até n : np.sum(x ** 2)\n",
    "\n",
    "somatório de xy de i = 1 até n : np.sum(x * y)\n",
    "\n",
    "(bo)\n",
    "(bi)\n",
    "np.linalg.solve(M, V)"
   ]
  },
  {
   "cell_type": "markdown",
   "id": "a68168db",
   "metadata": {},
   "source": [
    "$f(x) = 2x³ - cos(x + 1) - 4$"
   ]
  },
  {
   "cell_type": "code",
   "execution_count": 21,
   "id": "548a7388",
   "metadata": {},
   "outputs": [],
   "source": [
    "x = np.array([0.2, 2.7, 4.5, 5.9, 7.2])\n",
    "y = np.array([1.5, 1.8, 3.1, 2.6, 3.6])\n",
    "\n",
    "soma_x = np.sum(x)\n",
    "soma_y = np.sum(y)\n",
    "soma_x2 = np.sum(x ** 2)\n",
    "soma_xy = np.sum(x * y)\n",
    "n = len(x)\n",
    "\n",
    "m = np.array([[n, soma_x], [soma_x, soma_x2]])\n",
    "\n",
    "v = np.array([soma_y, soma_xy])\n",
    "\n",
    "coeficientes = np.linalg.solve(m, v)\n",
    "b0, b1 = coeficientes"
   ]
  },
  {
   "cell_type": "markdown",
   "id": "c4e34f6b",
   "metadata": {},
   "source": [
    "#### Definindo a reta:"
   ]
  },
  {
   "cell_type": "code",
   "execution_count": 20,
   "id": "e8d8512d",
   "metadata": {},
   "outputs": [],
   "source": [
    "def u(x, b0, b1): return b0 + b1 * x"
   ]
  },
  {
   "cell_type": "code",
   "execution_count": 22,
   "id": "83089fee",
   "metadata": {},
   "outputs": [
    {
     "data": {
      "text/plain": [
       "array([1.39445328, 2.11595759, 2.63544069, 3.0394831 , 3.41466534])"
      ]
     },
     "execution_count": 22,
     "metadata": {},
     "output_type": "execute_result"
    }
   ],
   "source": [
    "u(x, b0, b1)"
   ]
  },
  {
   "cell_type": "code",
   "execution_count": 44,
   "id": "cda6d95c",
   "metadata": {},
   "outputs": [
    {
     "data": {
      "image/png": "[encoded data removed]",
      "text/plain": [
       "<Figure size 432x288 with 1 Axes>"
      ]
     },
     "metadata": {
      "needs_background": "light"
     },
     "output_type": "display_data"
    }
   ],
   "source": [
    "plt.scatter(x, y, color='blue')\n",
    "plt.plot(x, u(x, b0, b1), color='blue')\n",
    "plt.show()"
   ]
  },
  {
   "cell_type": "markdown",
   "id": "61b2088a",
   "metadata": {},
   "source": [
    "#### Agrupando em uma função"
   ]
  },
  {
   "cell_type": "code",
   "execution_count": 46,
   "id": "5bd0ad52",
   "metadata": {},
   "outputs": [],
   "source": [
    "def ajuste_curva(x, y):\n",
    "    x = np.array([0.2, 2.7, 4.5, 5.9, 7.2])\n",
    "    y = np.array([1.5, 1.8, 3.1, 2.6, 3.6])\n",
    "\n",
    "    soma_x = np.sum(x)\n",
    "    soma_y = np.sum(y)\n",
    "    soma_x2 = np.sum(x ** 2)\n",
    "    soma_xy = np.sum(x * y)\n",
    "    n = len(x)\n",
    "\n",
    "    m = np.array([[n, soma_x], [soma_x, soma_x2]])\n",
    "\n",
    "    v = np.array([soma_y, soma_xy])\n",
    "\n",
    "    coeficientes = np.linalg.solve(m, v)\n",
    "    b0, b1 = coeficientes\n",
    "    return b0 + b1 * x"
   ]
  },
  {
   "cell_type": "code",
   "execution_count": 47,
   "id": "d09d40c4",
   "metadata": {},
   "outputs": [
    {
     "data": {
      "text/plain": [
       "array([1.39445328, 2.11595759, 2.63544069, 3.0394831 , 3.41466534])"
      ]
     },
     "execution_count": 47,
     "metadata": {},
     "output_type": "execute_result"
    }
   ],
   "source": [
    "ajuste_curva(x, y)"
   ]
  }
 ],
 "metadata": {
  "kernelspec": {
   "display_name": "Python 3",
   "language": "python",
   "name": "python3"
  },
  "language_info": {
   "codemirror_mode": {
    "name": "ipython",
    "version": 3
   },
   "file_extension": ".py",
   "mimetype": "text/x-python",
   "name": "python",
   "nbconvert_exporter": "python",
   "pygments_lexer": "ipython3",
   "version": "3.10.12"
  }
 },
 "nbformat": 4,
 "nbformat_minor": 5
}
