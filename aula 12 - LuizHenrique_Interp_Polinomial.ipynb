{
 "cells": [
  {
   "cell_type": "markdown",
   "id": "762a60d8",
   "metadata": {},
   "source": [
    "# Aula 12 - Métodos Numéricos\n",
    "\n",
    "## Interpolação Polinomial"
   ]
  },
  {
   "cell_type": "markdown",
   "id": "fbeb833b",
   "metadata": {},
   "source": [
    "Aluno: Luiz Henrique Garcia Braga dos Reis"
   ]
  },
  {
   "cell_type": "markdown",
   "id": "ade430dc",
   "metadata": {},
   "source": [
    "##### Seja o experimento:\n",
    "\n",
    "| x   | 0.5 | 1.2 | 2.1 | 3.5 | 5.4 |\n",
    "| --- | --- | --- | --- | --- | --- |\n",
    "| y   | 5.1 | 3.2 | 2.8 | 1.0 | 0.4 |\n",
    "\n",
    "1) Ajustar uma reta de mínimos quadrados\n",
    "2) Ajustar um polinômio de 2º grau\n",
    "3) Ajustar um polinômio de 3º grau\n",
    "4) Qual dos ajustes acima é o melhor?\n",
    "5) Compare graficamente os ajustes"
   ]
  },
  {
   "cell_type": "code",
   "execution_count": 56,
   "id": "46adaee9",
   "metadata": {},
   "outputs": [],
   "source": [
    "import numpy as np\n",
    "import matplotlib.pyplot as plt\n",
    "import Luiz_Henrique as lh"
   ]
  },
  {
   "cell_type": "markdown",
   "id": "6071f1c0",
   "metadata": {},
   "source": [
    "### 1) Ajustar uma reta de mínimos quadrados"
   ]
  },
  {
   "cell_type": "code",
   "execution_count": 57,
   "id": "c50ad497",
   "metadata": {},
   "outputs": [
    {
     "name": "stdout",
     "output_type": "stream",
     "text": [
      "[ 4.34846577  3.7141883   2.8986887   1.63013375 -0.09147653]\n"
     ]
    }
   ],
   "source": [
    "x = np.array([0.5, 1.2, 2.1, 3.5, 5.4])\n",
    "y = np.array([5.1, 3.2, 2.8, 1, 0.4])\n",
    "\n",
    "soma_x = np.sum(x)\n",
    "soma_y = np.sum(y)\n",
    "soma_x2 = np.sum(x ** 2)\n",
    "soma_xy = np.sum(x * y)\n",
    "n = len(x)\n",
    "\n",
    "m = np.array([[n, soma_x], [soma_x, soma_x2]])\n",
    "\n",
    "v = np.array([soma_y, soma_xy])\n",
    "\n",
    "coeficientes = np.linalg.solve(m, v)\n",
    "b0, b1 = coeficientes\n",
    "print(b0 + b1 * x)"
   ]
  },
  {
   "cell_type": "code",
   "execution_count": 58,
   "id": "1f5c7612",
   "metadata": {},
   "outputs": [
    {
     "name": "stdout",
     "output_type": "stream",
     "text": [
      "0.8944606796298378\n"
     ]
    }
   ],
   "source": [
    "u1 = b0 + b1 * x\n",
    "\n",
    "residuos = y - u1\n",
    "ss_res = np.sum(residuos ** 2)\n",
    "\n",
    "media_y = np.mean(y)\n",
    "ss_tot = np.sum((y - media_y) ** 2)\n",
    "\n",
    "r2_minquad = 1 - ss_res / ss_tot\n",
    "print(r2_minquad)"
   ]
  },
  {
   "cell_type": "markdown",
   "id": "c0e3982f",
   "metadata": {},
   "source": [
    "### 2) Ajustar um polinômio de 2º grau"
   ]
  },
  {
   "cell_type": "code",
   "execution_count": 59,
   "id": "4a50cb3b",
   "metadata": {},
   "outputs": [],
   "source": [
    "x = np.array([0.5, 1.2, 2.1, 3.5, 5.4])\n",
    "y = np.array([5.1, 3.2, 2.8, 1, 0.4])"
   ]
  },
  {
   "cell_type": "code",
   "execution_count": 60,
   "id": "7ddc1cb5",
   "metadata": {},
   "outputs": [
    {
     "name": "stdout",
     "output_type": "stream",
     "text": [
      "[4.88635129 3.69808352 2.43834398 1.07810144 0.39911976]\n"
     ]
    }
   ],
   "source": [
    "m = np.array([[len(x), sum(x), sum(x ** 2)],\n",
    "                   [sum(x), sum(x ** 2), sum(x ** 3)],\n",
    "                   [sum(x ** 2), sum(x ** 3), sum(x ** 4)]])\n",
    "\n",
    "v = np.array([sum(y), sum(y * x), sum(y * x ** 2)])\n",
    "\n",
    "coeficientes = np.linalg.solve(m, v)\n",
    "b0, b1, b2 = coeficientes\n",
    "print(b0 + b1 * x + b2 * x ** 2)"
   ]
  },
  {
   "cell_type": "code",
   "execution_count": 61,
   "id": "a2aef4dd",
   "metadata": {},
   "outputs": [
    {
     "name": "stdout",
     "output_type": "stream",
     "text": [
      "0.9692408111274403\n"
     ]
    }
   ],
   "source": [
    "u2 = b0 + b1 * x + b2 * x ** 2\n",
    "\n",
    "residuos = y - u2\n",
    "ss_res = np.sum(residuos ** 2)\n",
    "\n",
    "media_y = np.mean(y)\n",
    "ss_tot = np.sum((y - media_y) ** 2)\n",
    "\n",
    "r2_2grau = 1 - ss_res / ss_tot\n",
    "print(r2_2grau)"
   ]
  },
  {
   "cell_type": "markdown",
   "id": "732eaf27",
   "metadata": {},
   "source": [
    "### 3) Ajustar um polinômio de 3º grau"
   ]
  },
  {
   "cell_type": "code",
   "execution_count": 62,
   "id": "c249139e",
   "metadata": {},
   "outputs": [
    {
     "name": "stdout",
     "output_type": "stream",
     "text": [
      "[4.93674419 3.67886381 2.55717626 1.92051707 3.21434899] [-2.25088454e-03 -3.11162279e-02 -1.66763534e-01 -7.72053398e-01\n",
      " -2.83546627e+00]\n"
     ]
    }
   ],
   "source": [
    "m = np.array([[len(x), sum(x), sum(x ** 2), sum(x ** 3)],\n",
    "                   [sum(x), sum(x ** 2), sum(x ** 3), sum(x ** 4)],\n",
    "                   [sum(x ** 2), sum(x ** 3), sum(x ** 4), sum(x ** 5)],\n",
    "                   [sum(x ** 3), sum(x ** 4), sum(x ** 5), sum(x ** 6)]])\n",
    "\n",
    "v = np.array([sum(y), sum(y * x), sum(y * x ** 2), sum(y * x ** 3)])\n",
    "\n",
    "coeficientes = np.linalg.solve(m, v)\n",
    "b0, b1, b2, b3 = coeficientes\n",
    "print(b0 + b1 * x + b2 * x ** 2, b3 * x ** 3)"
   ]
  },
  {
   "cell_type": "code",
   "execution_count": 63,
   "id": "3d1fffd5",
   "metadata": {},
   "outputs": [
    {
     "name": "stdout",
     "output_type": "stream",
     "text": [
      "0.35122583729765466\n"
     ]
    }
   ],
   "source": [
    "u3 = b0 + b1 * x + b2 * x ** 2\n",
    "\n",
    "residuos = y - u3\n",
    "ss_res = np.sum(residuos ** 2)\n",
    "\n",
    "media_y = np.mean(y)\n",
    "ss_tot = np.sum((y - media_y) ** 2)\n",
    "\n",
    "r2_3grau = 1 - ss_res / ss_tot\n",
    "print(r2_3grau)"
   ]
  },
  {
   "cell_type": "markdown",
   "id": "c5d43f06",
   "metadata": {},
   "source": [
    "### 4) Qual dos ajustes acima é o melhor?\n",
    "\n",
    "##### O segundo ajuste, de um polinômio de 2º grau, é o melhor ajuste, pois é o que R² mais se aproxima de 1"
   ]
  },
  {
   "cell_type": "markdown",
   "id": "1f9f5320",
   "metadata": {},
   "source": [
    "### 5) Compare, graficamente, os ajustes"
   ]
  },
  {
   "cell_type": "code",
   "execution_count": 64,
   "id": "1aee20a8",
   "metadata": {},
   "outputs": [
    {
     "data": {
      "image/png": "[encoded data removed]",
      "text/plain": [
       "<Figure size 640x480 with 1 Axes>"
      ]
     },
     "metadata": {},
     "output_type": "display_data"
    }
   ],
   "source": [
    "x1 = np.linspace(0.5, 5.4, 50)\n",
    "plt.plot(x, u1, label='Ajuste Mínimos Quadrados')\n",
    "plt.plot(x, u2, label='Ajuste 2º Grau')\n",
    "plt.plot(x, u3, label='Ajuste 3º Grau')\n",
    "plt.xlabel('x')\n",
    "plt.ylabel('y')\n",
    "plt.title('Comparação dos métodos de ajustes')\n",
    "plt.grid(True)\n",
    "plt.legend()\n",
    "plt.show()"
   ]
  }
 ],
 "metadata": {
  "kernelspec": {
   "display_name": ".venv (3.10.12)",
   "language": "python",
   "name": "python3"
  },
  "language_info": {
   "codemirror_mode": {
    "name": "ipython",
    "version": 3
   },
   "file_extension": ".py",
   "mimetype": "text/x-python",
   "name": "python",
   "nbconvert_exporter": "python",
   "pygments_lexer": "ipython3",
   "version": "3.10.12"
  }
 },
 "nbformat": 4,
 "nbformat_minor": 5
}
