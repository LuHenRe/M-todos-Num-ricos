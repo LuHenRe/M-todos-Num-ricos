{
 "cells": [
  {
   "cell_type": "markdown",
   "id": "af7dca04-640f-45e5-8973-d1e9fd9faca6",
   "metadata": {},
   "source": [
    "## Primeira Prova - Métodos Numéricos"
   ]
  },
  {
   "cell_type": "markdown",
   "id": "1d447687-12cb-4d67-a51a-d64afc99015c",
   "metadata": {},
   "source": [
    "Nome: Luiz Henrique"
   ]
  },
  {
   "cell_type": "code",
   "execution_count": 1,
   "id": "46e1d908-56df-4af4-9640-a7ddc78c575b",
   "metadata": {},
   "outputs": [],
   "source": [
    "import numpy as np\n",
    "import matplotlib.pyplot as plt\n",
    "import Luiz_Henrique1 as lh"
   ]
  },
  {
   "cell_type": "markdown",
   "id": "cfedb121-a892-4b6b-9fff-e9aad48cfcfa",
   "metadata": {},
   "source": [
    "### Questão 1"
   ]
  },
  {
   "cell_type": "code",
   "execution_count": 3,
   "id": "49801e16-25d3-483e-96c9-77d28c6b025a",
   "metadata": {},
   "outputs": [],
   "source": [
    "def f(x): return ((8 * x + 1) ** 2) * np.e ** (x ** 2 - 2) - 8"
   ]
  },
  {
   "cell_type": "code",
   "execution_count": 4,
   "id": "c2c0ffc9-9f65-4ff9-a519-ed56f532897b",
   "metadata": {},
   "outputs": [
    {
     "data": {
      "image/png": "[encoded data removed]",
      "text/plain": [
       "<Figure size 432x288 with 1 Axes>"
      ]
     },
     "metadata": {
      "needs_background": "light"
     },
     "output_type": "display_data"
    }
   ],
   "source": [
    "lh.grafico(f, 0, 1)"
   ]
  },
  {
   "cell_type": "markdown",
   "id": "c934081d-8718-4138-8112-51de462b4406",
   "metadata": {},
   "source": [
    "##### (1a) Uma das possíveis raízes de f(x) está no intervalo $[0.4, 0.8]$"
   ]
  },
  {
   "cell_type": "code",
   "execution_count": 5,
   "id": "b011b8df-7c3c-4808-873f-7ccbe543c595",
   "metadata": {},
   "outputs": [
    {
     "name": "stdout",
     "output_type": "stream",
     "text": [
      "A raiz da equação é: 0.6520202636718752\n",
      "Função da raiz: -4.586584418220241e-05\n"
     ]
    }
   ],
   "source": [
    "lh.bissecao(f, 0.4, 0.8)"
   ]
  },
  {
   "cell_type": "markdown",
   "id": "a836ea7e-afd1-473d-8e40-23b0b0dd862c",
   "metadata": {},
   "source": [
    "##### (1b) A raiz da equação no intervalo $[0.4, 0.8]$ é 0.6520202636718752"
   ]
  },
  {
   "cell_type": "markdown",
   "id": "22df87d1-2d65-4362-9a8b-08158cb86a24",
   "metadata": {},
   "source": [
    "### Questão 2"
   ]
  },
  {
   "cell_type": "markdown",
   "id": "48bcdc2a-f758-4668-a049-43416cfe1e6f",
   "metadata": {},
   "source": [
    "#### 2a) O cálculo realizado serve para realizar o método da bisseção na variável \"c\". Para que a função aplicasse o método da bisseção, seria necessário que a variável \"c\" recebesse $(a + b) / 2$ ou em Python, (a + b) / 2."
   ]
  },
  {
   "cell_type": "markdown",
   "id": "9a48c3fa-072f-4ff5-b50e-4c0cb3a1bc37",
   "metadata": {},
   "source": [
    "#### 2b) As condições de parada estão impostas na linha \"while iteracao < max_iteracoes and abs(f(c)) > tolerancia:\". Ela corresponde a um loop que se mantém até que duas condições sejam alcançadas. Quando a variável \"iteracao\" (quantidade de interações ou vezes que o loop foi realizado e realizou as operações) alcançar um valor igual ou superior ao \"max_iteracoes\" (máximo de interações do loop) ou então quando o valor absoluto da função aplicada em c (abs(f(c))) for maior que a tolerância imposta na variável da função (tolerancia é uma variável opcional, já possuindo um valor padrão predefinido)."
   ]
  },
  {
   "cell_type": "markdown",
   "id": "5356b9fe-8c36-4a6b-9c2c-931047db4193",
   "metadata": {},
   "source": [
    "#### 2c) A verificação observa se há a incidência de sinais igual para as funções aplicadas em 'a' e 'b', terminando a função quando isso ocorrer. A razão para isso se deve ao fato de que a função se torna \"previsível\", sendo possível manipular para que ela percorra um intervalo em direção à raiz da função em c."
   ]
  },
  {
   "cell_type": "markdown",
   "id": "03c19396-5839-471e-91c0-7007d963bbfc",
   "metadata": {},
   "source": [
    "### Questão 3"
   ]
  },
  {
   "cell_type": "markdown",
   "id": "8fb142de-e147-43d2-917d-291245f81426",
   "metadata": {},
   "source": [
    "#### 3a (Modelo Linear)"
   ]
  },
  {
   "cell_type": "code",
   "execution_count": 8,
   "id": "1ae98169-8f0f-4308-8cd5-bf8ddd9dc6a4",
   "metadata": {},
   "outputs": [
    {
     "name": "stdout",
     "output_type": "stream",
     "text": [
      "[8.09615385 8.51923077 8.73076923 9.15384615]\n",
      "0.8461538461538461\n"
     ]
    }
   ],
   "source": [
    "x = np.array(x)\n",
    "y = np.array(y)\n",
    "m = np.array([[len(x), sum(x)],\n",
    "                [sum(x), sum(x ** 2)]])\n",
    "\n",
    "v = np.array([sum(y), sum(y * x)])\n",
    "\n",
    "coeficientes = np.linalg.solve(m, v)\n",
    "b0, b1 = coeficientes\n",
    "print(b0 + b1 * x)\n",
    "\n",
    "u1 = b0 + b1 * x\n",
    "\n",
    "residuos = y - u1\n",
    "ss_res = np.sum(residuos ** 2)\n",
    "\n",
    "media_y = np.mean(y)\n",
    "ss_tot = np.sum((y - media_y) ** 2)\n",
    "\n",
    "r2_1grau = 1 - ss_res / ss_tot\n",
    "print(r2_1grau)"
   ]
  },
  {
   "cell_type": "markdown",
   "id": "a6459211-0127-4575-b340-2d9039a65a77",
   "metadata": {},
   "source": [
    "#### 3b (Modelo Quadrático)"
   ]
  },
  {
   "cell_type": "code",
   "execution_count": 9,
   "id": "efc977a7-35e7-494b-bacf-fdaa2d61686b",
   "metadata": {},
   "outputs": [
    {
     "name": "stdout",
     "output_type": "stream",
     "text": [
      "[7.97115385 8.64423077 8.85576923 9.02884615]\n",
      "0.9370629370629371\n"
     ]
    }
   ],
   "source": [
    "x = np.array(x)\n",
    "y = np.array(y)\n",
    "m = np.array([[len(x), sum(x), sum(x ** 2)],\n",
    "                [sum(x), sum(x ** 2), sum(x ** 3)],\n",
    "                 [sum(x ** 2), sum(x ** 3), sum(x ** 4)]])\n",
    "\n",
    "v = np.array([sum(y), sum(y * x), sum(y * x ** 2)])\n",
    "\n",
    "coeficientes = np.linalg.solve(m, v)\n",
    "b0, b1, b2 = coeficientes\n",
    "print(b0 + b1 * x + b2 * x ** 2)\n",
    "\n",
    "u2 = b0 + b1 * x + b2 * x ** 2\n",
    "\n",
    "residuos = y - u2\n",
    "ss_res = np.sum(residuos ** 2)\n",
    "\n",
    "media_y = np.mean(y)\n",
    "ss_tot = np.sum((y - media_y) ** 2)\n",
    "\n",
    "r2_2grau = 1 - ss_res / ss_tot\n",
    "print(r2_2grau)"
   ]
  },
  {
   "cell_type": "markdown",
   "id": "90e9b54c-a063-45a3-b0f2-b48a83fd285a",
   "metadata": {},
   "source": [
    "#### 3c O coeficiente de determinação do modelo quadrático é mais preciso que o modelo linear, uma vez que o Coeficiente de Determinação (R^2) está mais próximo de 1."
   ]
  },
  {
   "cell_type": "markdown",
   "id": "70c24df2-9d9d-4deb-aaa2-a4fe291b212f",
   "metadata": {},
   "source": [
    "### Questão 4"
   ]
  },
  {
   "cell_type": "code",
   "execution_count": 14,
   "id": "846db538-49fc-4e0b-88fb-4457988b5338",
   "metadata": {},
   "outputs": [
    {
     "data": {
      "text/plain": [
       "array([[858177.78764065, 512897.78425909, 721730.58628897,\n",
       "        645182.98560843, 815905.14736186, 756005.54669071,\n",
       "        862992.4278983 , 713406.58628427]])"
      ]
     },
     "execution_count": 14,
     "metadata": {},
     "output_type": "execute_result"
    }
   ],
   "source": [
    "n = 8000\n",
    "fat = np.array([96, 90, 95, 92, 95, 94, 94, 94])\n",
    "tv = np.array([5, 2, 4, 2.5, 3, 3.5, 2.5, 3])\n",
    "jornal = np.array([1.5, 2, 1.5, 2.5, 3.3, 2.3, 4.2, 2.5])\n",
    "fat = np.array([fat * n])\n",
    "tv = np.array([tv * n])\n",
    "jornal = np.array([jornal * n])\n",
    "\n",
    "lh.ajuste_linear_multiplo(tv, jornal, fat, tv, jornal)"
   ]
  }
 ],
 "metadata": {
  "kernelspec": {
   "display_name": "Python 3 (ipykernel)",
   "language": "python",
   "name": "python3"
  },
  "language_info": {
   "codemirror_mode": {
    "name": "ipython",
    "version": 3
   },
   "file_extension": ".py",
   "mimetype": "text/x-python",
   "name": "python",
   "nbconvert_exporter": "python",
   "pygments_lexer": "ipython3",
   "version": "3.10.12"
  }
 },
 "nbformat": 4,
 "nbformat_minor": 5
}
